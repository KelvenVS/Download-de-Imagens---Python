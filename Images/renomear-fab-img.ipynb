{
 "cells": [
  {
   "cell_type": "code",
   "execution_count": 1,
   "metadata": {},
   "outputs": [],
   "source": [
    "import os"
   ]
  },
  {
   "cell_type": "code",
   "execution_count": 2,
   "metadata": {},
   "outputs": [],
   "source": [
    "def renomear(arquivo,fab):\n",
    "    entrada = './Entrada/'\n",
    "    saida = './Saida/'\n",
    "    os.rename(f\"{entrada}{arquivo}\", f\"{saida}{fab}_{arquivo}\")"
   ]
  },
  {
   "cell_type": "code",
   "execution_count": 3,
   "metadata": {},
   "outputs": [],
   "source": [
    "# Listando todos os arquivos na pasta atual\n",
    "arquivos = os.listdir('./Entrada/')"
   ]
  },
  {
   "cell_type": "code",
   "execution_count": 4,
   "metadata": {},
   "outputs": [],
   "source": [
    "# Loop para renomear cada arquivo\n",
    "for arquivo in arquivos:\n",
    "    fabricante = '10'\n",
    "    if arquivo.endswith('.jpg') or arquivo.endswith('.png'):\n",
    "        renomear(arquivo,fabricante)"
   ]
  }
 ],
 "metadata": {
  "kernelspec": {
   "display_name": "Python 3",
   "language": "python",
   "name": "python3"
  },
  "language_info": {
   "codemirror_mode": {
    "name": "ipython",
    "version": 3
   },
   "file_extension": ".py",
   "mimetype": "text/x-python",
   "name": "python",
   "nbconvert_exporter": "python",
   "pygments_lexer": "ipython3",
   "version": "3.11.9"
  }
 },
 "nbformat": 4,
 "nbformat_minor": 2
}
