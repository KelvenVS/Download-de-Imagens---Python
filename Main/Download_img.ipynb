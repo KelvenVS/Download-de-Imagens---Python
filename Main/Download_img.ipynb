{
 "cells": [
  {
   "cell_type": "code",
   "execution_count": 1,
   "metadata": {},
   "outputs": [],
   "source": [
    "import requests\n",
    "import time\n",
    "from IPython.display import clear_output"
   ]
  },
  {
   "cell_type": "code",
   "execution_count": 2,
   "metadata": {},
   "outputs": [],
   "source": [
    "Dados = { 'ccodpro' : [],\n",
    "         'links' : []}"
   ]
  },
  {
   "cell_type": "code",
   "execution_count": 3,
   "metadata": {},
   "outputs": [],
   "source": [
    "with open('../Fonte/txt/download_links.txt', 'r') as arquivo:\n",
    "    linhas = arquivo.readlines()\n",
    "    \n",
    "#for linha in linhas:\n",
    "    # Processar cada linha conforme necessário\n",
    "    #print(linha.strip())  # Exemplo: imprimir cada linha removendo espaços em branco extras\n",
    "       \n",
    "# Converter a lista de strings em uma lista de inteiros\n",
    "Dados['links'] = [str(linha.strip()) for linha in linhas] "
   ]
  },
  {
   "cell_type": "code",
   "execution_count": 4,
   "metadata": {},
   "outputs": [],
   "source": [
    "with open('../Fonte/txt/codigos.txt', 'r') as arquivo:\n",
    "    linhas = arquivo.readlines()      \n",
    "# Converter a lista de strings em uma lista de inteiros\n",
    "Dados['ccodpro'] = [str(linha.strip()) for linha in linhas] \n",
    "\n",
    "if len(Dados['ccodpro']) != len(Dados['links']):\n",
    "    try:\n",
    "        raise Exception('Arrays com tamanho diferentes')\n",
    "    except:\n",
    "        print('Arrays com tamanho diferentes')\n",
    "else:\n",
    "    None"
   ]
  },
  {
   "cell_type": "code",
   "execution_count": 5,
   "metadata": {},
   "outputs": [],
   "source": [
    "def baixar_imagem(url, nome_arquivo):\n",
    "        response = requests.get(url)\n",
    "        if response.status_code == 200:\n",
    "            with open(nome_arquivo, 'wb') as arquivo:\n",
    "                arquivo.write(response.content)\n",
    "            #print(f\"Imagem baixada com sucesso como {nome_arquivo}\")\n",
    "        else:\n",
    "            print(f\"Falha ao baixar a imagem: Status {response.status_code}\\nImagem erro em: {nome_arquivo}\")\n"
   ]
  },
  {
   "cell_type": "code",
   "execution_count": null,
   "metadata": {},
   "outputs": [],
   "source": [
    "init = 0\n",
    "for index,ccodpro in enumerate(Dados['ccodpro'][init:],start=init):\n",
    "    pathFile = '../Images/Entrada/' + ccodpro  #+ '.jpg'\n",
    "    baixar_imagem(Dados[\"links\"][init],pathFile)\n",
    "    print(f'PROGRESSO : {index}/{len(Dados[\"ccodpro\"])} downloads')"
   ]
  }
 ],
 "metadata": {
  "kernelspec": {
   "display_name": "Python 3",
   "language": "python",
   "name": "python3"
  },
  "language_info": {
   "codemirror_mode": {
    "name": "ipython",
    "version": 3
   },
   "file_extension": ".py",
   "mimetype": "text/x-python",
   "name": "python",
   "nbconvert_exporter": "python",
   "pygments_lexer": "ipython3",
   "version": "3.11.9"
  }
 },
 "nbformat": 4,
 "nbformat_minor": 2
}
