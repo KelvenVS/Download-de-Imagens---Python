{
 "cells": [
  {
   "cell_type": "code",
   "execution_count": 9,
   "metadata": {},
   "outputs": [],
   "source": [
    "import requests\n",
    "from IPython.display import clear_output"
   ]
  },
  {
   "cell_type": "code",
   "execution_count": 10,
   "metadata": {},
   "outputs": [],
   "source": [
    "def baixar_imagem(url, nome_arquivo):\n",
    "    \"\"\"\n",
    "    Baixa uma imagem a partir de uma URL e a salva localmente com o nome especificado.\n",
    "\n",
    "    Parâmetros:\n",
    "    url (str): A URL da imagem que será baixada.\n",
    "    nome_arquivo (str): O nome do arquivo onde a imagem será salva.\n",
    "\n",
    "    Funcionalidade:\n",
    "    - Faz uma requisição GET para a URL fornecida.\n",
    "    - Se a requisição for bem-sucedida (status code 200), a imagem é salva no caminho especificado.\n",
    "    - Caso contrário, imprime uma mensagem de erro com o status code.\n",
    "\n",
    "    Exemplo:\n",
    "    >>> baixar_imagem('https://example.com/image.jpg', 'imagem_local.jpg')\n",
    "    Imagem baixada com sucesso como imagem_local.jpg\n",
    "    \"\"\"\n",
    "    response = requests.get(url)\n",
    "    if response.status_code == 200:\n",
    "        with open(nome_arquivo, 'wb') as arquivo:\n",
    "            arquivo.write(response.content)\n",
    "            print(f\"Imagem baixada com sucesso como {nome_arquivo}\")\n",
    "    else:\n",
    "        print(f\"Falha ao baixar a imagem: Status {response.status_code}\\nImagem erro em: {nome_arquivo}\")\n"
   ]
  },
  {
   "cell_type": "code",
   "execution_count": 11,
   "metadata": {},
   "outputs": [],
   "source": [
    "import pandas as pd \n",
    "def load_excel_as_dict(file_excel,arrColumns=['ccodpro','links']):\n",
    "    \"\"\"\n",
    "    Lê um arquivo Excel e retorna um DataFrame contendo apenas as colunas especificadas.\n",
    "\n",
    "    Parâmetros:\n",
    "    pathExcel (str): O caminho para o arquivo Excel que será lido.\n",
    "    arrColumns (list): Lista com os nomes das colunas que devem ser carregadas do arquivo Excel.\n",
    "\n",
    "    Retorna:\n",
    "    pd.DataFrame: Um DataFrame contendo apenas as colunas especificadas pelo parâmetro `arrColumns`.\n",
    "\n",
    "    Exemplo:\n",
    "    >>> df = lerExcel('dados.xlsx', ['ccodpro', 'links'])\n",
    "    >>> print(df)\n",
    "       Nome  Idade\n",
    "    0  Ana     30\n",
    "    1  João    25\n",
    "    \"\"\"\n",
    "    pathfile = '../Fonte/excel/' + file_excel\n",
    "    \n",
    "    df = pd.read_excel(pathfile, usecols=arrColumns)\n",
    "    return df"
   ]
  },
  {
   "cell_type": "code",
   "execution_count": 12,
   "metadata": {},
   "outputs": [],
   "source": [
    "def load_text_as_dict_columns(file_txt,file_type='default_value'):\n",
    "    \"\"\"\n",
    "    Lê um arquivo de texto e retorna uma lista de strings, correspondentes ao conteúdo das linhas do arquivo.\n",
    "\n",
    "    Parâmetros:\n",
    "    file_txt (str): O nome do arquivo de texto que será lido.\n",
    "    file_type (str): O tipo de dados que o arquivo contém. Deve ser 'ccodpro' ou 'links'. \n",
    "                     Se outro valor for fornecido, uma exceção será levantada.\n",
    "\n",
    "    Retorna:\n",
    "    list: Uma lista de strings contendo o conteúdo das linhas do arquivo.\n",
    "\n",
    "    Funcionalidade:\n",
    "    - Verifica se o `file_type` é 'ccodpro' ou 'links'.\n",
    "    - Lê o arquivo de texto especificado.\n",
    "    - Converte cada linha do arquivo em uma string, removendo espaços em branco no início e no fim.\n",
    "    - Salva as strings em um dicionário com a chave `file_type`.\n",
    "    - Retorna a lista de strings correspondente ao `file_type`.\n",
    "\n",
    "    Exceções:\n",
    "    - Levanta um ValueError se `file_type` não for 'ccodpro' ou 'links'.\n",
    "    - Imprime uma mensagem e não levanta exceção se o arquivo não for encontrado.\n",
    "\n",
    "    Exemplo:\n",
    "    >>> load_text_as_dict_columns('codigos.txt', 'ccodpro')\n",
    "    ['12345', '67890', '24680']\n",
    "    \"\"\"\n",
    "    if file_type not in ['ccodpro', 'links']:\n",
    "        print('file_type deve ser ccodpro ou links')\n",
    "        raise ValueError(\"file_type deve ser 'ccodpro' ou 'links'\")\n",
    "    \n",
    "    pathfile = '../Fonte/txt/' + file_txt\n",
    "    Dados = { file_type : []}\n",
    "    try:    \n",
    "        with open(pathfile, 'r') as arquivo:\n",
    "            linhas = arquivo.readlines()\n",
    "            # Converter a lista de strings em uma lista de inteiros\n",
    "            Dados[file_type] = [str(linha.strip()) for linha in linhas]\n",
    "            print(f'Arquivo {file_txt} salvo no Dict Dados[{file_type}]')\n",
    "    except FileNotFoundError:\n",
    "        print(f'Arquivo: {file_txt} não encontrado.')\n",
    "    return Dados[file_type]"
   ]
  },
  {
   "cell_type": "code",
   "execution_count": 13,
   "metadata": {},
   "outputs": [],
   "source": [
    "def load_txt_in_dict(file_column1,file_column2):\n",
    "    \"\"\"\n",
    "    Lê dois arquivos de texto e retorna um dicionário com listas de strings, correspondentes ao conteúdo das linhas dos arquivos.\n",
    "\n",
    "    Parâmetros:\n",
    "    file_column1 (str): O nome do primeiro arquivo de texto, que será lido como 'ccodpro'.\n",
    "    file_column2 (str): O nome do segundo arquivo de texto, que será lido como 'links'.\n",
    "\n",
    "    Retorna:\n",
    "    dict: Um dicionário contendo duas chaves:\n",
    "          'ccodpro' - uma lista de strings correspondente ao conteúdo das linhas de `file_column1`.\n",
    "          'links' - uma lista de strings correspondente ao conteúdo das linhas de `file_column2`.\n",
    "\n",
    "    Funcionalidade:\n",
    "    - Lê `file_column1` e salva seu conteúdo em uma lista associada à chave 'ccodpro'.\n",
    "    - Lê `file_column2` e salva seu conteúdo em uma lista associada à chave 'links'.\n",
    "    - Retorna um dicionário com as duas listas.\n",
    "\n",
    "    Exemplo:\n",
    "    >>> load_txt_in_dict('codigos.txt', 'download_links.txt')\n",
    "    {'ccodpro': ['12345', '67890', '24680'], 'links': ['http://example.com/img1.jpg', 'http://example.com/img2.jpg','http://example.com/img3.jpg']}\n",
    "    \"\"\"\n",
    "    Dados = { 'ccodpro' : [],'links' : []}\n",
    "    Dados['ccodpro'] = load_text_as_dict_columns(file_column1,'ccodpro')\n",
    "    Dados['links'] = load_text_as_dict_columns(file_column2,'links')\n",
    "    return Dados"
   ]
  },
  {
   "cell_type": "code",
   "execution_count": 14,
   "metadata": {},
   "outputs": [],
   "source": [
    "def baixar(fonte='excel'):\n",
    "    match fonte:\n",
    "        case 'excel':\n",
    "            Dados = load_excel_as_dict('Dados.xlsx')\n",
    "        case 'txt':\n",
    "            Dados = load_txt_in_dict('codigos.txt','download_links.txt')\n",
    "        case _:\n",
    "            print('Nada foi carregado.\\nCarregue: EXCEL ou TXT')\n",
    "        \n",
    "    if len(Dados['ccodpro']) != len(Dados['links']):\n",
    "        print('Arrays com tamanho diferentes')\n",
    "        raise Exception('Arrays com tamanho diferentes')\n",
    "    else:\n",
    "        None      \n",
    "    return Dados"
   ]
  },
  {
   "cell_type": "code",
   "execution_count": 15,
   "metadata": {},
   "outputs": [],
   "source": [
    "Dados = baixar('excel')"
   ]
  },
  {
   "cell_type": "code",
   "execution_count": 16,
   "metadata": {},
   "outputs": [
    {
     "name": "stdout",
     "output_type": "stream",
     "text": [
      "Progresso : 192/192 downloads\n"
     ]
    }
   ],
   "source": [
    "init = 0\n",
    "total = len(Dados['ccodpro'])\n",
    "\n",
    "for index, ccodpro in enumerate(Dados['ccodpro'][init:], start=init):\n",
    "    file_txt = f'../Images/Entrada/{ccodpro}'\n",
    "    link = Dados[\"links\"][index]\n",
    "    baixar_imagem(link, file_txt)\n",
    "    \n",
    "    clear_output(wait=False)\n",
    "    print(f'Progresso : {index + 1}/{total} downloads')\n",
    "    "
   ]
  }
 ],
 "metadata": {
  "kernelspec": {
   "display_name": "Python 3",
   "language": "python",
   "name": "python3"
  },
  "language_info": {
   "codemirror_mode": {
    "name": "ipython",
    "version": 3
   },
   "file_extension": ".py",
   "mimetype": "text/x-python",
   "name": "python",
   "nbconvert_exporter": "python",
   "pygments_lexer": "ipython3",
   "version": "3.11.9"
  }
 },
 "nbformat": 4,
 "nbformat_minor": 2
}
