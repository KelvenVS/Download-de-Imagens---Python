{
 "cells": [
  {
   "cell_type": "code",
   "execution_count": 1,
   "metadata": {},
   "outputs": [],
   "source": [
    "import requests"
   ]
  },
  {
   "cell_type": "code",
   "execution_count": 2,
   "metadata": {},
   "outputs": [],
   "source": [
    "import time\n",
    "from IPython.display import clear_output\n"
   ]
  },
  {
   "cell_type": "code",
   "execution_count": 3,
   "metadata": {},
   "outputs": [
    {
     "data": {
      "text/plain": [
       "110"
      ]
     },
     "execution_count": 3,
     "metadata": {},
     "output_type": "execute_result"
    }
   ],
   "source": [
    "with open('download_links.txt', 'r') as arquivo:\n",
    "    linhas = arquivo.readlines()\n",
    "    \n",
    "#for linha in linhas:\n",
    "    # Processar cada linha conforme necessário\n",
    "    #print(linha.strip())  # Exemplo: imprimir cada linha removendo espaços em branco extras\n",
    "       \n",
    "# Converter a lista de strings em uma lista de inteiros\n",
    "array3Mstr = [str(linha.strip()) for linha in linhas] \n",
    "len(array3Mstr)"
   ]
  },
  {
   "cell_type": "code",
   "execution_count": 4,
   "metadata": {},
   "outputs": [
    {
     "data": {
      "text/plain": [
       "110"
      ]
     },
     "execution_count": 4,
     "metadata": {},
     "output_type": "execute_result"
    }
   ],
   "source": [
    "with open('codigos.txt', 'r') as arquivo:\n",
    "    linhas = arquivo.readlines()      \n",
    "# Converter a lista de strings em uma lista de inteiros\n",
    "array3m_REF_str = [str(linha.strip()) for linha in linhas] \n",
    "len(array3Mstr)"
   ]
  },
  {
   "cell_type": "code",
   "execution_count": 5,
   "metadata": {},
   "outputs": [],
   "source": [
    "def baixar_imagem(url, nome_arquivo):\n",
    "    #try:\n",
    "        response = requests.get(url)\n",
    "        if response.status_code == 200:\n",
    "            with open(nome_arquivo, 'wb') as arquivo:\n",
    "                arquivo.write(response.content)\n",
    "            #print(f\"Imagem baixada com sucesso como {nome_arquivo}\")\n",
    "        else:\n",
    "            print(f\"Falha ao baixar a imagem: Status {response.status_code}\\nImagem erro em: {nome_arquivo}\")\n",
    "    #except Exception as e:\n",
    "    #   print(f\"Erro ao baixar a imagem: {str(e)}\")\n",
    "\n",
    "#url_imagem = \"https://multimedia.3m.com/mws/media/491232J/zebra-ribbon-70mmx200m.jpg?width=1000\"\n",
    "#nome_arquivo = \"imagem.jpg\"\n",
    "#baixar_imagem(url_imagem, nome_arquivo)\n"
   ]
  },
  {
   "cell_type": "code",
   "execution_count": 6,
   "metadata": {},
   "outputs": [
    {
     "name": "stdout",
     "output_type": "stream",
     "text": [
      "PROGRESSO : 1/110 downloads\n",
      "PROGRESSO : 2/110 downloads\n",
      "PROGRESSO : 3/110 downloads\n",
      "PROGRESSO : 4/110 downloads\n",
      "PROGRESSO : 5/110 downloads\n",
      "PROGRESSO : 6/110 downloads\n",
      "PROGRESSO : 7/110 downloads\n",
      "PROGRESSO : 8/110 downloads\n",
      "PROGRESSO : 9/110 downloads\n",
      "PROGRESSO : 10/110 downloads\n",
      "PROGRESSO : 11/110 downloads\n",
      "PROGRESSO : 12/110 downloads\n",
      "PROGRESSO : 13/110 downloads\n",
      "PROGRESSO : 14/110 downloads\n",
      "PROGRESSO : 15/110 downloads\n",
      "PROGRESSO : 16/110 downloads\n",
      "PROGRESSO : 17/110 downloads\n",
      "PROGRESSO : 18/110 downloads\n",
      "PROGRESSO : 19/110 downloads\n",
      "PROGRESSO : 20/110 downloads\n",
      "PROGRESSO : 21/110 downloads\n",
      "PROGRESSO : 22/110 downloads\n",
      "PROGRESSO : 23/110 downloads\n",
      "PROGRESSO : 24/110 downloads\n",
      "PROGRESSO : 25/110 downloads\n",
      "PROGRESSO : 26/110 downloads\n",
      "PROGRESSO : 27/110 downloads\n",
      "PROGRESSO : 28/110 downloads\n",
      "PROGRESSO : 29/110 downloads\n",
      "PROGRESSO : 30/110 downloads\n",
      "PROGRESSO : 31/110 downloads\n",
      "PROGRESSO : 32/110 downloads\n",
      "PROGRESSO : 33/110 downloads\n",
      "PROGRESSO : 34/110 downloads\n",
      "PROGRESSO : 35/110 downloads\n",
      "PROGRESSO : 36/110 downloads\n",
      "PROGRESSO : 37/110 downloads\n",
      "PROGRESSO : 38/110 downloads\n",
      "PROGRESSO : 39/110 downloads\n",
      "PROGRESSO : 40/110 downloads\n",
      "PROGRESSO : 41/110 downloads\n",
      "PROGRESSO : 42/110 downloads\n",
      "PROGRESSO : 43/110 downloads\n",
      "PROGRESSO : 44/110 downloads\n",
      "PROGRESSO : 45/110 downloads\n",
      "PROGRESSO : 46/110 downloads\n",
      "PROGRESSO : 47/110 downloads\n",
      "PROGRESSO : 48/110 downloads\n",
      "PROGRESSO : 49/110 downloads\n",
      "PROGRESSO : 50/110 downloads\n",
      "PROGRESSO : 51/110 downloads\n",
      "PROGRESSO : 52/110 downloads\n",
      "PROGRESSO : 53/110 downloads\n",
      "PROGRESSO : 54/110 downloads\n",
      "PROGRESSO : 55/110 downloads\n",
      "PROGRESSO : 56/110 downloads\n",
      "PROGRESSO : 57/110 downloads\n",
      "PROGRESSO : 58/110 downloads\n",
      "PROGRESSO : 59/110 downloads\n",
      "PROGRESSO : 60/110 downloads\n",
      "PROGRESSO : 61/110 downloads\n",
      "PROGRESSO : 62/110 downloads\n",
      "PROGRESSO : 63/110 downloads\n",
      "PROGRESSO : 64/110 downloads\n",
      "PROGRESSO : 65/110 downloads\n",
      "PROGRESSO : 66/110 downloads\n",
      "PROGRESSO : 67/110 downloads\n",
      "PROGRESSO : 68/110 downloads\n",
      "PROGRESSO : 69/110 downloads\n",
      "PROGRESSO : 70/110 downloads\n",
      "PROGRESSO : 71/110 downloads\n",
      "PROGRESSO : 72/110 downloads\n",
      "PROGRESSO : 73/110 downloads\n",
      "PROGRESSO : 74/110 downloads\n",
      "PROGRESSO : 75/110 downloads\n",
      "PROGRESSO : 76/110 downloads\n",
      "PROGRESSO : 77/110 downloads\n",
      "PROGRESSO : 78/110 downloads\n",
      "PROGRESSO : 79/110 downloads\n",
      "PROGRESSO : 80/110 downloads\n",
      "PROGRESSO : 81/110 downloads\n",
      "PROGRESSO : 82/110 downloads\n",
      "PROGRESSO : 83/110 downloads\n",
      "PROGRESSO : 84/110 downloads\n",
      "PROGRESSO : 85/110 downloads\n",
      "PROGRESSO : 86/110 downloads\n",
      "PROGRESSO : 87/110 downloads\n",
      "PROGRESSO : 88/110 downloads\n",
      "PROGRESSO : 89/110 downloads\n",
      "PROGRESSO : 90/110 downloads\n",
      "PROGRESSO : 91/110 downloads\n",
      "PROGRESSO : 92/110 downloads\n",
      "PROGRESSO : 93/110 downloads\n",
      "PROGRESSO : 94/110 downloads\n",
      "PROGRESSO : 95/110 downloads\n",
      "PROGRESSO : 96/110 downloads\n",
      "PROGRESSO : 97/110 downloads\n",
      "PROGRESSO : 98/110 downloads\n",
      "PROGRESSO : 99/110 downloads\n",
      "PROGRESSO : 100/110 downloads\n",
      "PROGRESSO : 101/110 downloads\n",
      "PROGRESSO : 102/110 downloads\n",
      "PROGRESSO : 103/110 downloads\n",
      "PROGRESSO : 104/110 downloads\n",
      "PROGRESSO : 105/110 downloads\n",
      "PROGRESSO : 106/110 downloads\n",
      "PROGRESSO : 107/110 downloads\n",
      "PROGRESSO : 108/110 downloads\n",
      "PROGRESSO : 109/110 downloads\n",
      "PROGRESSO : 110/110 downloads\n"
     ]
    }
   ],
   "source": [
    "cont = 0\n",
    "aux = 0\n",
    "for link,ref3m in zip(array3Mstr[cont:],array3m_REF_str[cont:]):\n",
    "    pathFile = './imgs/' + ref3m  #+ '.jpg'\n",
    "    baixar_imagem(link,pathFile)\n",
    "    aux +=1\n",
    "    print(f'PROGRESSO : {aux}/{len(array3m_REF_str)} downloads')\n",
    "    "
   ]
  }
 ],
 "metadata": {
  "kernelspec": {
   "display_name": "Python 3",
   "language": "python",
   "name": "python3"
  },
  "language_info": {
   "codemirror_mode": {
    "name": "ipython",
    "version": 3
   },
   "file_extension": ".py",
   "mimetype": "text/x-python",
   "name": "python",
   "nbconvert_exporter": "python",
   "pygments_lexer": "ipython3",
   "version": "3.11.9"
  }
 },
 "nbformat": 4,
 "nbformat_minor": 2
}
