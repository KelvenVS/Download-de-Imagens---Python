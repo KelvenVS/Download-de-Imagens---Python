{
 "cells": [
  {
   "cell_type": "code",
   "execution_count": 1,
   "metadata": {},
   "outputs": [],
   "source": [
    "import requests\n",
    "import time\n",
    "from IPython.display import clear_output"
   ]
  },
  {
   "cell_type": "code",
   "execution_count": 6,
   "metadata": {},
   "outputs": [],
   "source": [
    "Dados = { 'ccodpro' : [],\n",
    "         'links' : []}"
   ]
  },
  {
   "cell_type": "code",
   "execution_count": 3,
   "metadata": {},
   "outputs": [],
   "source": [
    "def baixar_imagem(url, nome_arquivo):\n",
    "        response = requests.get(url)\n",
    "        if response.status_code == 200:\n",
    "            with open(nome_arquivo, 'wb') as arquivo:\n",
    "                arquivo.write(response.content)\n",
    "            #print(f\"Imagem baixada com sucesso como {nome_arquivo}\")\n",
    "        else:\n",
    "            print(f\"Falha ao baixar a imagem: Status {response.status_code}\\nImagem erro em: {nome_arquivo}\")\n"
   ]
  },
  {
   "cell_type": "code",
   "execution_count": 4,
   "metadata": {},
   "outputs": [],
   "source": [
    "def load_text_as_dict(file_txt,file_type='default_value'):\n",
    "    if file_type not in ['ccodpro', 'links']:\n",
    "        print('file_type deve ser ccodpro ou links')\n",
    "        raise ValueError(\"file_type deve ser 'ccodpro' ou 'links'\")\n",
    "    pathfile = '../Fonte/txt/' + file_txt\n",
    "    try:    \n",
    "        with open(pathfile, 'r') as arquivo:\n",
    "            linhas = arquivo.readlines()\n",
    "            # Converter a lista de strings em uma lista de inteiros\n",
    "            Dados[file_type] = [str(linha.strip()) for linha in linhas]\n",
    "            print(f'Arquivo {file_txt} salvo no Dict Dados[{file_type}]')\n",
    "    except FileNotFoundError:\n",
    "        print(f'Arquivo: {file_txt} não encontrado.')"
   ]
  },
  {
   "cell_type": "code",
   "execution_count": 12,
   "metadata": {},
   "outputs": [
    {
     "name": "stdout",
     "output_type": "stream",
     "text": [
      "Arquivo codigos.txt salvo no Dict Dados[ccodpro]\n",
      "Arquivo download_links.txt salvo no Dict Dados[links]\n"
     ]
    }
   ],
   "source": [
    "load_text_as_dict('codigos.txt','ccodpro')\n",
    "load_text_as_dict('download_links.txt','links')\n",
    "\n",
    "if len(Dados['ccodpro']) != len(Dados['links']):\n",
    "    print('Arrays com tamanho diferentes')\n",
    "    raise Exception('Arrays com tamanho diferentes')\n",
    "else:\n",
    "    None"
   ]
  },
  {
   "cell_type": "code",
   "execution_count": null,
   "metadata": {},
   "outputs": [],
   "source": [
    "init = 0\n",
    "for index,ccodpro in enumerate(Dados['ccodpro'][init:],start=init):\n",
    "    file_txt = '../Images/Entrada/' + ccodpro  #+ '.jpg'\n",
    "    baixar_imagem(Dados[\"links\"][init],file_txt)\n",
    "    print(f'PROGRESSO : {index}/{len(Dados[\"ccodpro\"])} downloads')"
   ]
  }
 ],
 "metadata": {
  "kernelspec": {
   "display_name": "Python 3",
   "language": "python",
   "name": "python3"
  },
  "language_info": {
   "codemirror_mode": {
    "name": "ipython",
    "version": 3
   },
   "file_extension": ".py",
   "mimetype": "text/x-python",
   "name": "python",
   "nbconvert_exporter": "python",
   "pygments_lexer": "ipython3",
   "version": "3.11.9"
  }
 },
 "nbformat": 4,
 "nbformat_minor": 2
}
