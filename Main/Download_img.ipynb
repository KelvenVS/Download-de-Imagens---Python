{
 "cells": [
  {
   "cell_type": "code",
   "execution_count": 12,
   "metadata": {},
   "outputs": [],
   "source": [
    "import requests\n",
    "from IPython.display import clear_output"
   ]
  },
  {
   "cell_type": "code",
   "execution_count": 13,
   "metadata": {},
   "outputs": [],
   "source": [
    "Dados = { 'ccodpro' : [],\n",
    "         'links' : []}"
   ]
  },
  {
   "cell_type": "code",
   "execution_count": 14,
   "metadata": {},
   "outputs": [],
   "source": [
    "def baixar_imagem(url, nome_arquivo):\n",
    "        response = requests.get(url)\n",
    "        if response.status_code == 200:\n",
    "            with open(nome_arquivo, 'wb') as arquivo:\n",
    "                arquivo.write(response.content)\n",
    "            print(f\"Imagem baixada com sucesso como {nome_arquivo}\")\n",
    "        else:\n",
    "            print(f\"Falha ao baixar a imagem: Status {response.status_code}\\nImagem erro em: {nome_arquivo}\")\n"
   ]
  },
  {
   "cell_type": "code",
   "execution_count": 15,
   "metadata": {},
   "outputs": [],
   "source": [
    "import pandas as pd \n",
    "def load_excel_as_dict(file_excel,arrColumns=['ccodpro','links']):\n",
    "    \"\"\"\n",
    "    Lê um arquivo Excel e retorna um DataFrame contendo apenas as colunas especificadas.\n",
    "\n",
    "    Parâmetros:\n",
    "    pathExcel (str): O caminho para o arquivo Excel que será lido.\n",
    "    arrColumns (list): Lista com os nomes das colunas que devem ser carregadas do arquivo Excel.\n",
    "\n",
    "    Retorna:\n",
    "    pd.DataFrame: Um DataFrame contendo apenas as colunas especificadas pelo parâmetro `arrColumns`.\n",
    "\n",
    "    Exemplo:\n",
    "    >>> df = lerExcel('dados.xlsx', ['ccodpro', 'links'])\n",
    "    >>> print(df)\n",
    "       Nome  Idade\n",
    "    0  Ana     30\n",
    "    1  João    25\n",
    "    \"\"\"\n",
    "    pathfile = '../Fonte/excel/' + file_excel\n",
    "    \n",
    "    df = pd.read_excel(pathfile, usecols=arrColumns)\n",
    "    return df"
   ]
  },
  {
   "cell_type": "code",
   "execution_count": 16,
   "metadata": {},
   "outputs": [],
   "source": [
    "def load_text_as_dict(file_txt,file_type='default_value'):\n",
    "    if file_type not in ['ccodpro', 'links']:\n",
    "        print('file_type deve ser ccodpro ou links')\n",
    "        raise ValueError(\"file_type deve ser 'ccodpro' ou 'links'\")\n",
    "    pathfile = '../Fonte/txt/' + file_txt\n",
    "    try:    \n",
    "        with open(pathfile, 'r') as arquivo:\n",
    "            linhas = arquivo.readlines()\n",
    "            # Converter a lista de strings em uma lista de inteiros\n",
    "            Dados[file_type] = [str(linha.strip()) for linha in linhas]\n",
    "            print(f'Arquivo {file_txt} salvo no Dict Dados[{file_type}]')\n",
    "    except FileNotFoundError:\n",
    "        print(f'Arquivo: {file_txt} não encontrado.')"
   ]
  },
  {
   "cell_type": "code",
   "execution_count": 17,
   "metadata": {},
   "outputs": [],
   "source": [
    "#load_text_as_dict('codigos.txt','ccodpro')\n",
    "#load_text_as_dict('download_links.txt','links')\n",
    "\n",
    "Dados = load_excel_as_dict('Dados.xlsx')\n",
    "\n",
    "if len(Dados['ccodpro']) != len(Dados['links']):\n",
    "    print('Arrays com tamanho diferentes')\n",
    "    raise Exception('Arrays com tamanho diferentes')\n",
    "else:\n",
    "    None"
   ]
  },
  {
   "cell_type": "code",
   "execution_count": 19,
   "metadata": {},
   "outputs": [
    {
     "name": "stdout",
     "output_type": "stream",
     "text": [
      "Progresso : 4/982 downloads\n"
     ]
    }
   ],
   "source": [
    "init = 0\n",
    "total = len(Dados['ccodpro'])\n",
    "\n",
    "for index, ccodpro in enumerate(Dados['ccodpro'][init:4], start=init):\n",
    "    file_txt = f'../Images/Entrada/{ccodpro}'\n",
    "    link = Dados[\"links\"][index]\n",
    "    baixar_imagem(link, file_txt)\n",
    "    \n",
    "    clear_output(wait=False)\n",
    "    print(f'Progresso : {index + 1}/{total} downloads')\n",
    "    "
   ]
  }
 ],
 "metadata": {
  "kernelspec": {
   "display_name": "Python 3",
   "language": "python",
   "name": "python3"
  },
  "language_info": {
   "codemirror_mode": {
    "name": "ipython",
    "version": 3
   },
   "file_extension": ".py",
   "mimetype": "text/x-python",
   "name": "python",
   "nbconvert_exporter": "python",
   "pygments_lexer": "ipython3",
   "version": "3.11.9"
  }
 },
 "nbformat": 4,
 "nbformat_minor": 2
}
